{
 "cells": [
  {
   "cell_type": "code",
   "execution_count": 1,
   "metadata": {},
   "outputs": [],
   "source": [
    "# Importa pandas library for inmporting CSV\n",
    "import pandas as pd \n",
    "\n",
    "# Imports the Google Cloud client library\n",
    "from google_trans_new import google_translator  \n",
    "\n",
    "# Instantiates a client\n",
    "translate_client = google_translator()  \n",
    "\n",
    "\n",
    "#Translating the text to specified target language\n",
    "def translate(word):\n",
    "    # Target language\n",
    "    target_language = 'el' #Add here the target language that you want to translate to\n",
    "    # Translates some text into Russian\n",
    "    translation = translate_client.translate(\n",
    "        word,\n",
    "        lang_tgt=target_language)\n",
    "\n",
    "    return (translation)\n",
    "\n",
    "#Import data from CSV\n",
    "def importCSV():\n",
    "    data = pd.read_csv('/home/penny/Desktop/metaptuxiako/MLProject/Datasets/ex2.csv',encoding='latin1')\n",
    "    countRows = (len(data))\n",
    "    #Create a dictionary with translated words\n",
    "    translatedCSV = { \"Text\":[] , \"Date\":[],\"Favorites\":[], \"Retweets\":[],\"Tweet_ID\":[]} #Change the column names accordingly to your coumns names\n",
    " \n",
    "    #Translated word one by one from the CSV file and save them to the dictionary\n",
    "    for index, row in data.iterrows():\n",
    "        translated_tweet = translate(row[0])\n",
    "        translatedCSV[\"Text\"].append(translated_tweet)\n",
    "        translatedCSV[\"Date\"].append(row[1])\n",
    "        translatedCSV[\"Favorites\"].append(row[2])\n",
    "        translatedCSV[\"Retweets\"].append(row[3])\n",
    "        translatedCSV[\"Tweet_ID\"].append(row[4])\n",
    "\n",
    "               #        translatedCSV[\"Text\"].append(translate(row[\"Text\"]))\n",
    "#         translatedCSV[\"column2\"].append(translate(row[\"column2\"]))\n",
    "\n",
    "    #Create a Dataframe from Dictionary \n",
    "    #Save the DataFrame to a CSV file\n",
    "    df = pd.DataFrame(data=translatedCSV)\n",
    "    df.to_csv(\"translatedCSV1.csv\", sep='\\t',index=False)\n",
    "    "
   ]
  },
  {
   "cell_type": "code",
   "execution_count": 4,
   "metadata": {},
   "outputs": [],
   "source": [
    "importCSV()"
   ]
  }
 ],
 "metadata": {
  "kernelspec": {
   "display_name": "Python 3",
   "language": "python",
   "name": "python3"
  },
  "language_info": {
   "codemirror_mode": {
    "name": "ipython",
    "version": 3
   },
   "file_extension": ".py",
   "mimetype": "text/x-python",
   "name": "python",
   "nbconvert_exporter": "python",
   "pygments_lexer": "ipython3",
   "version": "3.8.5"
  }
 },
 "nbformat": 4,
 "nbformat_minor": 4
}
